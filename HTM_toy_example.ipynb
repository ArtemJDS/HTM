{
  "nbformat": 4,
  "nbformat_minor": 0,
  "metadata": {
    "colab": {
      "name": "HTM toy example.ipynb",
      "provenance": [],
      "collapsed_sections": [],
      "authorship_tag": "ABX9TyOWdvEh/9OBoEe8tQDPB+XL",
      "include_colab_link": true
    },
    "kernelspec": {
      "name": "python3",
      "display_name": "Python 3"
    },
    "language_info": {
      "name": "python"
    }
  },
  "cells": [
    {
      "cell_type": "markdown",
      "metadata": {
        "id": "view-in-github",
        "colab_type": "text"
      },
      "source": [
        "<a href=\"https://colab.research.google.com/github/ArtemJDS/HTM/blob/main/HTM_toy_example.ipynb\" target=\"_parent\"><img src=\"https://colab.research.google.com/assets/colab-badge.svg\" alt=\"Open In Colab\"/></a>"
      ]
    },
    {
      "cell_type": "code",
      "execution_count": null,
      "metadata": {
        "id": "0733zx4WVPMN"
      },
      "outputs": [],
      "source": [
        "import random as rn\n",
        "import numpy as np"
      ]
    },
    {
      "cell_type": "code",
      "source": [
        "\"\"\"\n",
        "Some helpfull functions which are used in the main body \n",
        "\"\"\"\n",
        "\n",
        "def zeros_generate(l, lower, higher):\n",
        "    \"\"\"\n",
        "    generates list of zeros with ones in it\n",
        "\n",
        "    l - lenght of whole sequence\n",
        "    lower - lower boundary of one's in sequence\n",
        "    higher - higher boundary of one's in sequence\n",
        "    \"\"\"\n",
        "\n",
        "    all_zeros = [0] * l\n",
        "\n",
        "    final = [1 if n<higher and n>=lower else 0 for n,i in  enumerate(all_zeros)]\n",
        "    return final\n",
        "\n",
        "\n",
        "def create_connections(number_of_all_neurons,number_of_connections, mean_activation):\n",
        "\n",
        "      \"\"\"\n",
        "      returns connections between a neuron and number_of_connections of neurons with given number_of_all_neurons and \n",
        "      mean_activation - mean used in weights initiating \n",
        "\n",
        "      being used in both Neuron and Column classes\n",
        "\n",
        "      \"\"\"\n",
        "      \n",
        "      x = zeros_generate(number_of_all_neurons, 0 ,number_of_connections)\n",
        "\n",
        "      y =[rn.uniform(mean_activation-(mean_activation/10), mean_activation+(mean_activation/10)) if n==1 else 0 for n in x]\n",
        "\n",
        "      rn.shuffle(y)\n",
        "\n",
        "      y[0]=0\n",
        "\n",
        "      return y\n",
        "\n",
        "def normalize_connections(connections, minimum):\n",
        "  \"\"\"\n",
        "  After plasticity happened this function will be applied \n",
        "\n",
        "  minimum - lower bound of connection (if 0 - this conenction will be diminished)\n",
        "  \n",
        "  \"\"\"\n",
        "\n",
        "  connections = [1 if i>1 else minimum if i<0 else i for i in connections]\n",
        "\n",
        "  return connections\n",
        "\n",
        "\n",
        "\n",
        "def encoder(data: int,lenght: int, free_receptor: int,  limits: tuple =(0,99) ) -> list:\n",
        "\n",
        "  \"\"\"\n",
        "  Creates simple input data - sequence of 0's and 1's \n",
        "  \n",
        "  EXAMPLE: data is 7, limits are 0 and 9, every number is encoded using 2 ones with 1 overlapping\n",
        "\n",
        "  [0, 0, 0, 0, 0, 0, 0, 1, 1, 0, 0]\n",
        "\n",
        "  \"\"\"\n",
        "\n",
        "  pot_values = limits[1]-limits[0]+1 #nmber of potential values integer can take\n",
        "\n",
        "  n_of_receptors = lenght + (pot_values-1)*free_receptor\n",
        "\n",
        "  least_rec = lenght*(data)-(lenght-free_receptor)*(data)\n",
        "\n",
        "  code = zeros_generate(n_of_receptors,least_rec,least_rec+lenght )\n",
        "\n",
        "  return code\n",
        "\n",
        "\n",
        "def noising(input, noise_rate):\n",
        "  \"\"\"\n",
        "  This function add noise to a given sequence of 0's and 1's\n",
        "  noise_rate - is fraction of input's lenght\n",
        "  \"\"\"\n",
        "  Nwrongneurons = int(np.round(len(input) * noise_rate))\n",
        "\n",
        "  change = rn.sample([*range(len(input))],Nwrongneurons)\n",
        "  input = [1 if (i==0 and input.index(i) in change) else 0 if i==1 and input.index(i) in change else i for i in input]\n",
        "  return input\n",
        "  "
      ],
      "metadata": {
        "id": "MovUcpIj0QkG"
      },
      "execution_count": null,
      "outputs": []
    },
    {
      "cell_type": "code",
      "source": [
        "class Neuron:\n",
        "  \"\"\"\n",
        "  active_neurons - list of active neurons on this stage\n",
        "  previously_active_neurons - list of active neurons on the previous stage\n",
        "  \"\"\" \n",
        "  ONneuron = 0 \n",
        "  active_neurons = []\n",
        "\n",
        "  def __init__(self,\n",
        "               NNeurons,\n",
        "\n",
        "               connection_fraction,\n",
        "               neuron_activation_thrs,\n",
        "\n",
        "               plasticity_const              \n",
        "              ):\n",
        "    \n",
        "    \"\"\"\n",
        "    Initializes neuron with it's order_number\n",
        "\n",
        "      creates connections between individual neurons\n",
        "      NLateral_conn - number of all lateral connections\n",
        "      lateral_connections - lateral connections [0,0.7,1,0] - neuron has no connections with 0'th and 3'th neurons and connections with 2'd and 3'd\n",
        "      activity_state - every timestep is decided wheather this neuron is active (initilazed with False value)\n",
        "      activity_couter - used in case if boosting is applied \n",
        "      neuron_activation_thrs - value of threshold of a connection activity\n",
        "      plasticity_const - just a constant by which connections are changed\n",
        "    \"\"\" \n",
        "\n",
        "    self.order_number = Neuron.ONneuron\n",
        "    self.NLateral_conn = int(np.round(NNeurons*connection_fraction))\n",
        "    self.lateral_connections = create_connections(NNeurons,self.NLateral_conn, neuron_activation_thrs)\n",
        "    self.activity_state = False\n",
        "    self.plasticity_const=plasticity_const\n",
        "    self.activity_couter=0\n",
        "\n",
        "    Neuron.ONneuron +=1\n",
        "\n",
        "\n",
        "  def predictive_state(self, neuron_activation_thrs):\n",
        "\n",
        "    \"\"\"\n",
        "    This function evaluets how many lateral neurons predict this neuron to fire\n",
        "    \"\"\"\n",
        "    x=0\n",
        "    for n,i in zip(self.lateral_connections,Neuron.active_neurons):\n",
        "      if n>neuron_activation_thrs and i ==1:\n",
        "        x+=1\n",
        "    self.predicting = x\n",
        "\n",
        "  def activation_neuron(self,neuron_activation_thrs):\n",
        "\n",
        "    \"\"\"\n",
        "    This function checks if neuron is active and executes lateral plasticity\n",
        "    \"\"\"\n",
        "\n",
        "    if self.activity_state == True:\n",
        "      Neuron.active_neurons.append(1)\n",
        "\n",
        "    else:\n",
        "      Neuron.active_neurons.append(0)\n",
        "\n",
        "    \"\"\"\n",
        "    The lateral plasticity happens here\n",
        "    \"\"\"\n",
        "\n",
        "    if self.activity_state == True:\n",
        "\n",
        "      self.lateral_connections = normalize_connections([i+self.plasticity_const if n==1 and i>0 else i-self.plasticity_const if n==0 and i>0 else 0 for n,i in zip(Neuron.previously_active_neurons,self.lateral_connections)],0)\n",
        "\n",
        "    if self.lateral_connections.count(0)>len(self.lateral_connections)-self.NLateral_conn:\n",
        "      zero_connections = [self.lateral_connections.index(i) for n,i in zip(Neuron.previously_active_neurons, self.lateral_connections) if i==0 and n==1]\n",
        "      if len(zero_connections)!=0:\n",
        "        to_create = rn.choice(zero_connections)\n",
        "        self.lateral_connections[to_create] = neuron_activation_thrs\n",
        "\n",
        "\n",
        "  def activity_trace(self, epoch, if_active):\n",
        "    \"\"\"\n",
        "    This function evaluetes activity of neuron (used in boosting)\n",
        "    \"\"\"\n",
        "    \n",
        "    if if_active==True:\n",
        "      self.activity_couter+=1\n",
        "    self.activity_level = self.activity_couter/(epoch+1)\n",
        "\n",
        "\n",
        "\n",
        "  @classmethod\n",
        "  def set_list_of_active_to_zero(cls):\n",
        "    \"\"\"\n",
        "    This function updates list of active_neurons and list of previously_active_neurons\n",
        "    \"\"\"\n",
        "\n",
        "    cls.previously_active_neurons = cls.active_neurons\n",
        "    cls.active_neurons = []\n",
        "    \n",
        "\n",
        "\n",
        "\n",
        "\n",
        "\n",
        "\n",
        "\n"
      ],
      "metadata": {
        "id": "kLSN9qa68mkf"
      },
      "execution_count": null,
      "outputs": []
    },
    {
      "cell_type": "code",
      "source": [
        "class Column: \n",
        "\n",
        "  ONColumn = 0\n",
        "  preactivity_list = []\n",
        "\n",
        "  def __init__(self,\n",
        "               NNeurons,\n",
        "               NNeurons_in,\n",
        "\n",
        "\n",
        "               NReceptors,\n",
        "               connection_fraction,\n",
        "               column_activation_thrs,\n",
        "\n",
        "               plasticity_const\n",
        "\n",
        "               ):\n",
        "    \n",
        "      \"\"\"  \n",
        "      Initializes column with NNeurons_in neurons in one and with order_number\n",
        "\n",
        "        NNeurons - number of all neurons (must be devidable by NNeurons_in)\n",
        "        NReceptors - number of receptors (inputs)\n",
        "        neurons_in_column - list of neurons (ord numbers of them) which belong to this column\n",
        "        connection_fraction - fraction of receptors this column has connecitons to\n",
        "        column_activation_thrs - value of threshold of connection activity  \n",
        "        plasticity_const - just a constant by which connections are changed\n",
        "        connections -  connecitons between column and receptors\n",
        "\n",
        "\n",
        "      \"\"\"\n",
        "\n",
        "      if NNeurons%NNeurons_in!=0:\n",
        "        raise Exception('Number of neurons is unacceptable. NNeurons must be devidable by NNeurons_in')\n",
        "      if NNeurons<NNeurons_in:\n",
        "        raise Exception('Number of neurons is unacceptable. NNeurons must be greater than NNeurons_in')\n",
        "\n",
        "      self.order_number = Column.ONColumn\n",
        "      self.neurons_in_column = [*range(NNeurons)][Column.ONColumn*NNeurons_in:NNeurons_in*(Column.ONColumn+1)]\n",
        "      NСonnections = int(np.round(NReceptors*connection_fraction))\n",
        "      self.column_activation_thrs = column_activation_thrs\n",
        "      self.plasticity_const = plasticity_const\n",
        "      self.connections = create_connections(NReceptors,NСonnections, self.column_activation_thrs)\n",
        "\n",
        "      Column.ONColumn+=1\n",
        "\n",
        "  def preactivation(self, input):\n",
        "\n",
        "        \"\"\"\n",
        "        This function calculates number of inputs to the column \n",
        "\n",
        "        This number is  passed then to \"column competition\" via  Column.preactivity_list and after all columns contributed column_competition() decides which columns are to be activated\n",
        "        \"\"\"\n",
        "        \n",
        "        Ninput = 0\n",
        "\n",
        "\n",
        "        for n,i in zip(self.connections, input):\n",
        "          if n>=self.column_activation_thrs and i==1:\n",
        "            Ninput=+1\n",
        "\n",
        "        self.for_plasticity = [1 if n>=0 and i==1 else -1 if n>=0 and i==0 else 0 for n,i in zip(self.connections, input)]\n",
        "\n",
        "        Column.preactivity_list.append(Ninput)\n",
        "\n",
        "\n",
        "      \n",
        "\n",
        "  @classmethod\n",
        "  def column_competition(cls, fraction_of_winners):\n",
        "\n",
        "        \"\"\"\n",
        "        This function decides which columns are to be activated (uses fraction of top columns)\n",
        "\n",
        "        After execution preactivity_list is set to []\n",
        "        \"\"\"\n",
        "\n",
        "        cls.winner_columns = []\n",
        "\n",
        "        Nactivated = int(np.round(len(cls.preactivity_list)*fraction_of_winners))\n",
        "        if len(set(cls.preactivity_list))>1:\n",
        "          cls.winner_columns = sorted([*range(len(cls.preactivity_list))], key = lambda x: cls.preactivity_list[x])[-Nactivated:]\n",
        "        else:\n",
        "          cls.winner_columns = rn.sample([*range(len(cls.preactivity_list))],Nactivated)\n",
        "\n",
        "        cls.preactivity_list = []\n",
        "\n",
        "\n",
        "  def column_activation(self, lateral_activation_thrs, list_of_neurons ): \n",
        "\n",
        "    \"\"\"\n",
        "    This function activates neurons in active columns (from winner_columns)\n",
        "\n",
        "      if there are neurons which are predicted (if numb of active conenctions is more than lateral_activation_thrs) these neurons are activated\n",
        "      if there are neurons which are predicted (but numb of active conenctions is less than lateral_activation_thrs) only one neuron (with largest number of active conenctions) is activated\n",
        "      otherwise column bursts\n",
        "\n",
        "    Also plasticity of receptors connections happens\n",
        "    \"\"\"\n",
        "    \n",
        "\n",
        "    if self.order_number in Column.winner_columns:\n",
        "\n",
        "      \"\"\"\n",
        "      Here activation of neurons happens\n",
        "      \"\"\"\n",
        "      lateral_input = [i.predicting for i in list_of_neurons if i.order_number in self.neurons_in_column]\n",
        "\n",
        "      if len(lateral_input)!=0:  \n",
        "\n",
        "          \n",
        "        if max(lateral_input)>=lateral_activation_thrs:\n",
        "          # in this case all cell that have connections more than thrs will be activated\n",
        "\n",
        "          neurons_activated = [1 if i >= lateral_activation_thrs else 0 for i in lateral_input ]\n",
        "\n",
        "        if len(set(lateral_input))>1 and max(lateral_input)<lateral_activation_thrs: \n",
        "\n",
        "          neurons_activated = [1 if i==max(lateral_input) else 0 for i in lateral_input]\n",
        "\n",
        "      if len(set(lateral_input))<=1:\n",
        "\n",
        "\n",
        "        neurons_activated = [1 for i in lateral_input]\n",
        "\n",
        "\n",
        "      for n,i in zip(neurons_activated, self.neurons_in_column):\n",
        "        if  n ==1: list_of_neurons[i].activity_state = True \n",
        "\n",
        "        #elif list_of_neurons[i].activity_level<0.1 and rn.random()<0.05: list_of_neurons[i].activity_state = True\n",
        "           \n",
        "        else: list_of_neurons[i].activity_state = False\n",
        "      \n",
        "\n",
        "      \"\"\"\n",
        "      Here plasticity of receptors happens\n",
        "      \"\"\"\n",
        "\n",
        "      self.connections =normalize_connections([i+self.plasticity_const if n==1 else i-self.plasticity_const if n==-1 else 0 for n,i in zip(self.for_plasticity,self.connections)],0)\n",
        "    else:\n",
        "      \n",
        "      \"\"\"\n",
        "      This block is used to calculate level of activity (for boosting)\n",
        "      \"\"\"\n",
        "      for i in self.neurons_in_column:\n",
        "        list_of_neurons[i].activity_state = False\n",
        "\n",
        "\n",
        "  "
      ],
      "metadata": {
        "id": "gxyKJQLLVVnV"
      },
      "execution_count": null,
      "outputs": []
    },
    {
      "cell_type": "code",
      "source": [
        "\"\"\"\n",
        "Those must be specified:\n",
        "  epoches - number of epoches \n",
        "  n_of_neurons - number of neurons \n",
        "  n_in_one_column - number of neurons in one column\n",
        "  neuron_thrs - neuron threshold\n",
        "  neurom_conn_fr - connection fraction of neuron\n",
        "  prediction_thrs - threshold for a neuron to become predicted\n",
        "  noise_fr - fraction of noise in input\n",
        "\"\"\"\n",
        "\n",
        "epoches = 10000\n",
        "n_of_neurons =1024\n",
        "n_in_one_column=4\n",
        "neuron_thrs = 0.5\n",
        "neurom_conn_fr = 0.5\n",
        "prediction_thrs = int(neurom_conn_fr*n_of_neurons/10)\n",
        "noise_fr = 0.05\n",
        "\n",
        "\"\"\"\n",
        "Here data is created\n",
        "This block of code is unnecessary\n",
        "\"\"\"\n",
        "\n",
        "#############################\n",
        "data=[]\n",
        "s=9\n",
        "x = 0 \n",
        "for i in range(int(epoches/5)):\n",
        "\n",
        "  data.append(noising([encoder(data = x, lenght= 10, free_receptor = 7,limits= (0,s) ),x][0],noise_fr))\n",
        "  if x!=s: x +=1\n",
        "  else: x = 0 \n",
        "x=s\n",
        "for i in range(int(epoches/5)):\n",
        "\n",
        "  data.append(noising([encoder(data = x, lenght= 10, free_receptor = 7,limits= (0,s) ),x][0],noise_fr))\n",
        "  if x!=0: x -=1\n",
        "  else: x = s\n",
        "\n",
        "x=0\n",
        "for i in range(int(epoches/5)):\n",
        "\n",
        "  data.append(noising([encoder(data = x, lenght= 10, free_receptor = 7,limits= (0,s) ),x][0],noise_fr))\n",
        "  if x!=s: x +=1\n",
        "  else: x = 0\n",
        "#############################\n",
        "\n",
        "\"\"\"\n",
        "Here neurons and columns are initiated\n",
        "Some vatiables are specified to run the programm\n",
        "\"\"\"\n",
        "\n",
        "list_of_neurons = [Neuron(n_of_neurons,neurom_conn_fr, neuron_thrs, 0.05,) for i in range(n_of_neurons)]\n",
        "list_of_columns = [Column(n_of_neurons,n_in_one_column,len(data[0]), 0.7,0.5,0.05,) for i in range(int(n_of_neurons/n_in_one_column))]\n",
        "Neuron.active_neurons=[0 for _ in range(n_of_neurons)] #write a script to check all lenghts\n",
        "Neuron.previously_active_neurons=[0 for _ in range(n_of_neurons)]\n",
        "\n",
        "\"\"\"\n",
        "Here variables for the future analysis are initiated\n",
        "\"\"\"\n",
        "d=[]\n",
        "\n",
        "\n",
        "\n",
        "\"\"\"\n",
        "Here the simulation starts\n",
        "\"\"\"\n",
        "\n",
        "for r,input in enumerate(data):\n",
        "  list_of_pred = []\n",
        "\n",
        "  for i in list_of_neurons:\n",
        "    i.predictive_state(neuron_thrs)\n",
        "    list_of_pred.append(i.predicting)\n",
        "  for i in list_of_columns:\n",
        "\n",
        "    i.preactivation(input)\n",
        "\n",
        "  Column.column_competition(0.1)\n",
        "\n",
        "  for i in list_of_columns:\n",
        "    i.column_activation(prediction_thrs, list_of_neurons)\n",
        " \n",
        "  Neuron.set_list_of_active_to_zero()\n",
        "\n",
        "  for i in list_of_neurons:\n",
        "    i.activation_neuron(neuron_thrs)\n",
        "    i.activity_trace(r,i.activity_state)\n",
        "\n",
        "\n",
        "  d.append((list_of_pred,Neuron.active_neurons))\n",
        "  print(r)"
      ],
      "metadata": {
        "id": "0c8jeGRxJBOm"
      },
      "execution_count": null,
      "outputs": []
    },
    {
      "cell_type": "code",
      "source": [
        "\"\"\"\n",
        "How the system activates in response to different data\n",
        "\n",
        "On a plot \n",
        "  every row is a sequence list 0's and 1's (1's - active cells)\n",
        "  time goes from above to bottom\n",
        "\n",
        "\"\"\"\n",
        "\n",
        "import seaborn as sns\n",
        "import matplotlib.pylab as plt\n",
        "from matplotlib.pyplot import figure\n",
        "\n",
        "for i in range(10):\n",
        "  figure(figsize=(8,4), dpi=80)\n",
        "  ax = sns.heatmap([i[1] for i in d[i::10]],cbar=False)\n",
        "  ax.set(xticklabels=[])\n",
        "  ax.set(yticklabels=[])\n",
        "  ax.set(xlabel=None)\n",
        "  ax.set(ylabel=None)\n",
        "  plt.title('Respons to {} as an encoded input'.format(i))\n",
        "\n",
        "plt.show()"
      ],
      "metadata": {
        "colab": {
          "base_uri": "https://localhost:8080/",
          "height": 1000
        },
        "id": "ZywBb0OhL2F6",
        "outputId": "31ebbaea-5037-4722-dfc8-f78bd922e79e"
      },
      "execution_count": null,
      "outputs": [
        {
          "output_type": "display_data",
          "data": {
            "text/plain": [
              "<Figure size 640x320 with 1 Axes>"
            ],
            "image/png": "[encoded data removed]"
          },
          "metadata": {
            "needs_background": "light"
          }
        },
        {
          "output_type": "display_data",
          "data": {
            "text/plain": [
              "<Figure size 640x320 with 1 Axes>"
            ],
            "image/png": "[encoded data removed]"
          },
          "metadata": {
            "needs_background": "light"
          }
        },
        {
          "output_type": "display_data",
          "data": {
            "text/plain": [
              "<Figure size 640x320 with 1 Axes>"
            ],
            "image/png": "[encoded data removed]"
          },
          "metadata": {
            "needs_background": "light"
          }
        },
        {
          "output_type": "display_data",
          "data": {
            "text/plain": [
              "<Figure size 640x320 with 1 Axes>"
            ],
            "image/png": "[encoded data removed]"
          },
          "metadata": {
            "needs_background": "light"
          }
        },
        {
          "output_type": "display_data",
          "data": {
            "text/plain": [
              "<Figure size 640x320 with 1 Axes>"
            ],
            "image/png": "[encoded data removed]"
          },
          "metadata": {
            "needs_background": "light"
          }
        },
        {
          "output_type": "display_data",
          "data": {
            "text/plain": [
              "<Figure size 640x320 with 1 Axes>"
            ],
            "image/png": "[encoded data removed]"
          },
          "metadata": {
            "needs_background": "light"
          }
        },
        {
          "output_type": "display_data",
          "data": {
            "text/plain": [
              "<Figure size 640x320 with 1 Axes>"
            ],
            "image/png": "[encoded data removed]"
          },
          "metadata": {
            "needs_background": "light"
          }
        },
        {
          "output_type": "display_data",
          "data": {
            "text/plain": [
              "<Figure size 640x320 with 1 Axes>"
            ],
            "image/png": "[encoded data removed]"
          },
          "metadata": {
            "needs_background": "light"
          }
        },
        {
          "output_type": "display_data",
          "data": {
            "text/plain": [
              "<Figure size 640x320 with 1 Axes>"
            ],
            "image/png": "[encoded data removed]"
          },
          "metadata": {
            "needs_background": "light"
          }
        },
        {
          "output_type": "display_data",
          "data": {
            "text/plain": [
              "<Figure size 640x320 with 1 Axes>"
            ],
            "image/png": "[encoded data removed]"
          },
          "metadata": {
            "needs_background": "light"
          }
        }
      ]
    }
  ]
}